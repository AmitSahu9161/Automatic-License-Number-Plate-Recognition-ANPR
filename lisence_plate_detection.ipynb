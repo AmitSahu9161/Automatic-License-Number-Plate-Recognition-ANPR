{
 "cells": [
  {
   "cell_type": "markdown",
   "id": "49c68c17",
   "metadata": {},
   "source": [
    "# Automatic Number-Plate Recognition (ANPR)"
   ]
  },
  {
   "cell_type": "code",
   "execution_count": 4,
   "id": "5becfa89",
   "metadata": {},
   "outputs": [],
   "source": [
    "# Importing library\n",
    "import cv2\n",
    "import pytesseract\n",
    "import numpy as np\n",
    "pytesseract.pytesseract.tesseract_cmd=r'C:/Program Files/Tesseract-OCR/tesseract.exe'"
   ]
  },
  {
   "cell_type": "code",
   "execution_count": 5,
   "id": "01d5be22",
   "metadata": {},
   "outputs": [],
   "source": [
    "cascade = cv2.CascadeClassifier(\"haarcascade_russian_plate_number.xml\")"
   ]
  },
  {
   "cell_type": "code",
   "execution_count": 67,
   "id": "570f1e4c",
   "metadata": {},
   "outputs": [],
   "source": [
    "def get_num(image):\n",
    "    global read\n",
    "    img = cv2.imread(image)\n",
    "    img = cv2.resize(img, (800, 520))\n",
    "    gray = cv2.cvtColor(img,cv2.COLOR_BGR2GRAY)\n",
    "    cv2.imshow('Result', gray)\n",
    "    cv2.waitKey(0)\n",
    "    nplate = cascade.detectMultiScale(gray, 1.2,6)\n",
    "    for(x,y,w,h) in nplate:\n",
    "        a,b = (int(0.02*img.shape[0]),int(0.025*img.shape[1]))\n",
    "        plate = img[y+a:y+h-a, x+b:x+w-b, :]\n",
    "        # image processing\n",
    "        kernel = np.ones((1,1),np.uint8)\n",
    "        plate = cv2.dilate(plate, kernel, iterations =1)\n",
    "        plate = cv2.erode(plate, kernel, iterations =1)\n",
    "        plate_gray = cv2.cvtColor(plate,cv2.COLOR_BGR2GRAY)\n",
    "        (thresh,plate) = cv2.threshold(plate_gray,127,255, cv2.THRESH_BINARY)\n",
    "        \n",
    "        # Reading text from plate using pytesseract\n",
    "        read =  pytesseract.image_to_string(plate)\n",
    "        read = ''.join(e for e in  read if e.isalnum())\n",
    "        print(read)\n",
    "        \n",
    "        # Putting rectangle and text over original image \n",
    "        cv2.rectangle(img,(x,y),(x+w,y+h),(51,51,255),2)\n",
    "        cv2.rectangle(img,(x,y-40),(x+w,y),(51,51,255),-1)\n",
    "        cv2.putText(img,read,(x,y-10),cv2.FONT_HERSHEY_SIMPLEX, fontScale = 1,color = (255, 255, 255),thickness = 2)\n",
    "        cv2.imshow('Plate', plate)\n",
    "        \n",
    "    cv2.imshow(\"Result\", img)\n",
    "    cv2.imwrite('result.png',img)\n",
    "    cv2.waitKey(0)\n",
    "    cv2.destroyAllWindows()\n",
    "      "
   ]
  },
  {
   "cell_type": "code",
   "execution_count": 69,
   "id": "c864ae21",
   "metadata": {},
   "outputs": [
    {
     "name": "stdout",
     "output_type": "stream",
     "text": [
      "KA05NB1786\n"
     ]
    }
   ],
   "source": [
    "# Calling get_num function\n",
    "get_num('Images/img5.jpeg')"
   ]
  },
  {
   "cell_type": "code",
   "execution_count": null,
   "id": "1534f661",
   "metadata": {},
   "outputs": [],
   "source": []
  }
 ],
 "metadata": {
  "kernelspec": {
   "display_name": "Python 3",
   "language": "python",
   "name": "python3"
  },
  "language_info": {
   "codemirror_mode": {
    "name": "ipython",
    "version": 3
   },
   "file_extension": ".py",
   "mimetype": "text/x-python",
   "name": "python",
   "nbconvert_exporter": "python",
   "pygments_lexer": "ipython3",
   "version": "3.8.8"
  }
 },
 "nbformat": 4,
 "nbformat_minor": 5
}
